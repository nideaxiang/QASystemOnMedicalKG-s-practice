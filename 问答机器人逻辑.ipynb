{
 "cells": [
  {
   "cell_type": "markdown",
   "id": "0ff4780b",
   "metadata": {},
   "source": [
    "# 一、从问题中提取相关实体和关系"
   ]
  },
  {
   "cell_type": "code",
   "execution_count": 2,
   "id": "026a58bc",
   "metadata": {},
   "outputs": [],
   "source": [
    "import os\n",
    "import ahocorasick\n",
    "from tqdm import tqdm"
   ]
  },
  {
   "cell_type": "markdown",
   "id": "72895ffa",
   "metadata": {},
   "source": [
    "导入相关的包 这里导入的ahocorasick是AC自动机，可以支持多模式下的匹配任务\n",
    "详细的AC自动机算法机制：https://oi-wiki.org/string/ac-automaton/#SnippetTab"
   ]
  },
  {
   "cell_type": "code",
   "execution_count": 3,
   "id": "006c8d0d",
   "metadata": {},
   "outputs": [],
   "source": [
    "os.chdir('QAMedicalKG')\n",
    "cur_dir = os.getcwd()#这一行代码的作用是获取当前工作目录，并将其存储在变量"
   ]
  },
  {
   "cell_type": "markdown",
   "id": "665512dd",
   "metadata": {},
   "source": [
    "改变操作路径，按照我的项目结构进行配置，这句就不会报错"
   ]
  },
  {
   "cell_type": "code",
   "execution_count": 4,
   "id": "95ae7960",
   "metadata": {},
   "outputs": [],
   "source": [
    "#　载入所有的特征词文件\n",
    "disease_path = os.path.join(cur_dir, 'dict/disease.txt') # 没有啥意义的连接路径操作\n",
    "department_path = os.path.join(cur_dir, 'dict/department.txt')\n",
    "check_path = os.path.join(cur_dir, 'dict/check.txt')\n",
    "drug_path = os.path.join(cur_dir, 'dict/drug.txt')\n",
    "food_path = os.path.join(cur_dir, 'dict/food.txt')\n",
    "producer_path = os.path.join(cur_dir, 'dict/producer.txt')\n",
    "symptom_path = os.path.join(cur_dir, 'dict/symptom.txt')\n",
    "deny_path = os.path.join(cur_dir, 'dict/deny.txt')"
   ]
  },
  {
   "cell_type": "markdown",
   "id": "6eef8a54",
   "metadata": {},
   "source": [
    "按照路径进特征词文件的检索以及载入，其实这里比较麻烦，如果不改变路径，可以不用连接两个地址，直接进行文件的读取和载入"
   ]
  },
  {
   "cell_type": "code",
   "execution_count": 4,
   "id": "49284370",
   "metadata": {},
   "outputs": [],
   "source": [
    "# 加载特征词 使用列表生成式和 strip() 方法，去除每行的前后空白字符，并过滤掉空行\n",
    "disease_wds = [i.strip() for i in open(disease_path,encoding=\"utf-8\") if i.strip()]\n",
    "department_wds = [i.strip() for i in open(department_path,encoding=\"utf-8\") if i.strip()]\n",
    "check_wds = [i.strip() for i in open(check_path,encoding=\"utf-8\") if i.strip()]\n",
    "drug_wds = [i.strip() for i in open(drug_path,encoding=\"utf-8\") if i.strip()]\n",
    "food_wds = [i.strip() for i in open(food_path,encoding=\"utf-8\") if i.strip()]\n",
    "producer_wds = [i.strip() for i in open(producer_path,encoding=\"utf-8\") if i.strip()]\n",
    "symptom_wds = [i.strip() for i in open(symptom_path,encoding=\"utf-8\") if i.strip()]\n",
    "# 将所有特征词合并成一个集合，集合会自动去重\n",
    "region_words = set(disease_wds + department_wds + check_wds + drug_wds + food_wds + producer_wds + symptom_wds)\n",
    "deny_words = [i.strip() for i in open(deny_path,encoding=\"utf-8\") if i.strip()]"
   ]
  },
  {
   "cell_type": "markdown",
   "id": "b04584ab",
   "metadata": {},
   "source": [
    "这里是对特征词进行简单的数据处理使用列表生成式和 strip() 方法，去除每行的前后空白字符，并过滤掉空行"
   ]
  },
  {
   "cell_type": "code",
   "execution_count": 5,
   "id": "b8281a78",
   "metadata": {},
   "outputs": [
    {
     "name": "stderr",
     "output_type": "stream",
     "text": [
      "100%|██████████████████████████████████████████████████████████████████████████| 43430/43430 [00:27<00:00, 1574.58it/s]\n"
     ]
    }
   ],
   "source": [
    "#为每个特征词建立一个字典，记录每个词的类型。通过遍历所有特征词，将词所属的类型添加到对应的字典中\n",
    "wdtype_dict = dict()\n",
    "for word in tqdm(region_words):\n",
    "    wdtype_dict[word] = []\n",
    "    if word in disease_wds:\n",
    "        wdtype_dict[word].append('disease')\n",
    "    if word in department_wds:\n",
    "        wdtype_dict[word].append('department')\n",
    "    if word in check_wds:\n",
    "        wdtype_dict[word].append('check')\n",
    "    if word in drug_wds:\n",
    "        wdtype_dict[word].append('drug')\n",
    "    if word in food_wds:\n",
    "        wdtype_dict[word].append('food')\n",
    "    if word in symptom_wds:\n",
    "        wdtype_dict[word].append('symptom')\n",
    "    if word in producer_wds:\n",
    "        wdtype_dict[word].append('producer')"
   ]
  },
  {
   "cell_type": "markdown",
   "id": "5aefc4fd",
   "metadata": {},
   "source": [
    "手动生成为每个特征词建立一个字典，记录每个词的类型。通过遍历所有特征词，将词所属的类型添加到对应的字典中，可以使用print(wdtype_dict)查看生成情况\n",
    "这里生成的字典是后面进行分类的依据"
   ]
  },
  {
   "cell_type": "markdown",
   "id": "52b32138",
   "metadata": {},
   "source": [
    "# 当知识图谱规模过大时，使用AC自动机算法，从问题中提取知识图谱中的实体，而不是用原生python的字符串方法"
   ]
  },
  {
   "cell_type": "code",
   "execution_count": 6,
   "id": "bc80aea5",
   "metadata": {},
   "outputs": [],
   "source": [
    "#构建 Aho-Corasick 自动机。Aho-Corasick 自动机是一种多模式字符串匹配算法，能够高效地在文本中找到多个模式\n",
    "def build_actree(wordlist):\n",
    "    actree = ahocorasick.Automaton() #建立空的自动机\n",
    "    for index, word in enumerate(wordlist):\n",
    "        actree.add_word(word, (index, word)) #将每个单词添加到自动机中\n",
    "    actree.make_automaton() #对所有添加的单词进行处理，构建出自动机的状态转移图\n",
    "    return actree #回构建好的 Aho-Corasick 自动机实例"
   ]
  },
  {
   "cell_type": "markdown",
   "id": "420bde7e",
   "metadata": {},
   "source": [
    "这里使用AC自动机构建一个多模式下的字符串匹配的函数，该函数生成一个自动机actree\n",
    "在后面使用该函数对项目的特征词库进行处理\n",
    "处理后的类型是一个二维元组（特征词（索引，特征词））"
   ]
  },
  {
   "cell_type": "code",
   "execution_count": 11,
   "id": "00bff9cb",
   "metadata": {},
   "outputs": [],
   "source": [
    "# 针对所有的实体构造AC自动机\n",
    "region_tree = build_actree(list(region_words))"
   ]
  },
  {
   "cell_type": "markdown",
   "id": "504cbe7e",
   "metadata": {},
   "source": [
    "使用函数对特征词库进行处理"
   ]
  },
  {
   "cell_type": "markdown",
   "id": "12dae7e4",
   "metadata": {},
   "source": [
    "## 使用自动机：1.提取问题相关实体及其类别"
   ]
  },
  {
   "cell_type": "code",
   "execution_count": 12,
   "id": "3d0e481a",
   "metadata": {},
   "outputs": [
    {
     "name": "stdout",
     "output_type": "stream",
     "text": [
      "(2, (41296, '肺气肿'))\n",
      "(6, (40914, '百日咳'))\n",
      "(11, (37371, '血常规'))\n",
      "['肺气肿', '百日咳', '血常规']\n"
     ]
    }
   ],
   "source": [
    "question = '肺气肿和百日咳要做血常规吗'\n",
    "question_entity = []\n",
    "#使用自动机对question进行迭代匹配，返回一个迭代器\n",
    "for each in region_tree.iter(question): \n",
    "    print(each)\n",
    "    entity = each[1][1]   #each是一个元组(word, (index, word))\n",
    "    question_entity.append(entity)\n",
    "print(question_entity) #显示问题中出现的所有实体"
   ]
  },
  {
   "cell_type": "markdown",
   "id": "7000a040",
   "metadata": {},
   "source": [
    "这里输入了一个问题的示例 '肺气肿和百日咳要做血常规吗'\n",
    "先构造一个空实体列表，将自动机进行迭代化，遍历生成的迭代器，对每一个出现的实体名进行收集，添加在实体列表中。\n",
    "获得一个实体名构成的实体列表"
   ]
  },
  {
   "cell_type": "code",
   "execution_count": 13,
   "id": "09806c0e",
   "metadata": {},
   "outputs": [
    {
     "data": {
      "text/plain": [
       "{'肺气肿': ['disease'], '百日咳': ['disease'], '血常规': ['check']}"
      ]
     },
     "execution_count": 13,
     "metadata": {},
     "output_type": "execute_result"
    }
   ],
   "source": [
    "#提取类别，匹配实体和类别\n",
    "question_entity_dict = {each:wdtype_dict[each] for each in question_entity}\n",
    "question_entity_dict"
   ]
  },
  {
   "cell_type": "markdown",
   "id": "96cd32e6",
   "metadata": {},
   "source": [
    "根据上面提取的实体列表和之前提取出的实体-关系字典，进行匹配，可以获得该问题的一个字典question_entity_dict\n",
    "这个字典反映了实体及其类别"
   ]
  },
  {
   "cell_type": "code",
   "execution_count": 14,
   "id": "961da02f",
   "metadata": {},
   "outputs": [],
   "source": [
    "#question_entity_dict被添加到输出字典的args中\n",
    "output = {}\n",
    "output['args'] = question_entity_dict"
   ]
  },
  {
   "cell_type": "markdown",
   "id": "0372d0cf",
   "metadata": {},
   "source": [
    "将问题中提出的实体名和实体类型进行存储在output中，以便下一阶段使用"
   ]
  },
  {
   "cell_type": "markdown",
   "id": "b791034f",
   "metadata": {},
   "source": [
    "## 使用自动机：2.提取问题相关的待查询关系"
   ]
  },
  {
   "cell_type": "code",
   "execution_count": 16,
   "id": "7320dee4",
   "metadata": {},
   "outputs": [
    {
     "data": {
      "text/plain": [
       "['disease', 'disease', 'check']"
      ]
     },
     "execution_count": 16,
     "metadata": {},
     "output_type": "execute_result"
    }
   ],
   "source": [
    "#问题涉及的实体类别\n",
    "types = []\n",
    "for each in question_entity_dict.values():\n",
    "    types.extend(each)"
   ]
  },
  {
   "cell_type": "markdown",
   "id": "d5353766",
   "metadata": {},
   "source": [
    "再次利用question_entity_dict，问题的实体-类型关系字典 遍历，将问题中的特征词的类型单独提取出来，添加到types列表中。"
   ]
  },
  {
   "cell_type": "code",
   "execution_count": 17,
   "id": "2298f614",
   "metadata": {},
   "outputs": [],
   "source": [
    "#加载不同提问意图的疑问词列表\n",
    "symptom_qwds = ['症状', '表征', '现象', '症候', '表现']\n",
    "cause_qwds = ['原因','成因', '为什么', '怎么会', '怎样才', '咋样才', '怎样会', '如何会', '为啥', '为何', '如何才会', '怎么才会', '会导致', '会造成']\n",
    "acompany_qwds = ['并发症', '并发', '一起发生', '一并发生', '一起出现', '一并出现', '一同发生', '一同出现', '伴随发生', '伴随', '共现']\n",
    "food_qwds = ['饮食', '饮用', '吃', '食', '伙食', '膳食', '喝', '菜' ,'忌口', '补品', '保健品', '食谱', '菜谱', '食用', '食物','补品']\n",
    "drug_qwds = ['药', '药品', '用药', '胶囊', '口服液', '炎片']\n",
    "prevent_qwds = ['预防', '防范', '抵制', '抵御', '防止','躲避','逃避','避开','免得','逃开','避开','避掉','躲开','躲掉','绕开',\n",
    "                     '怎样才能不', '怎么才能不', '咋样才能不','咋才能不', '如何才能不',\n",
    "                     '怎样才不', '怎么才不', '咋样才不','咋才不', '如何才不',\n",
    "                     '怎样才可以不', '怎么才可以不', '咋样才可以不', '咋才可以不', '如何可以不',\n",
    "                     '怎样才可不', '怎么才可不', '咋样才可不', '咋才可不', '如何可不']\n",
    "lasttime_qwds = ['周期', '多久', '多长时间', '多少时间', '几天', '几年', '多少天', '多少小时', '几个小时', '多少年']\n",
    "cureway_qwds = ['怎么治疗', '如何医治', '怎么医治', '怎么治', '怎么医', '如何治', '医治方式', '疗法', '咋治', '怎么办', '咋办', '咋治']\n",
    "cureprob_qwds = ['多大概率能治好', '多大几率能治好', '治好希望大么', '几率', '几成', '比例', '可能性', '能治', '可治', '可以治', '可以医']\n",
    "easyget_qwds = ['易感人群', '容易感染', '易发人群', '什么人', '哪些人', '感染', '染上', '得上']\n",
    "check_qwds = ['检查', '检查项目', '查出', '检查', '测出', '试出']\n",
    "belong_qwds = ['属于什么科', '属于', '什么科', '科室']\n",
    "cure_qwds = ['治疗什么', '治啥', '治疗啥', '医治啥', '治愈啥', '主治啥', '主治什么', '有什么用', '有何用', '用处', '用途', '有什么好处', '有什么益处', '有何益处', '用来', '用来做啥', '用来作甚', '需要', '要']"
   ]
  },
  {
   "cell_type": "markdown",
   "id": "4da55ff3",
   "metadata": {},
   "source": [
    "由于问题是一句疑问句，如何确定该回答什么还是需要根据疑问词来确定，所以加载一个提前准备好的疑问词列表库，一共有13个列表，13个列表对应了13种不同类型的问题"
   ]
  },
  {
   "cell_type": "code",
   "execution_count": 18,
   "id": "f2eb9a7f",
   "metadata": {},
   "outputs": [],
   "source": [
    "#检查提问语句中的疑问类词语\n",
    "def check_words(words, question):\n",
    "    # 疑问词是否出现在提问中\n",
    "    for word in words:\n",
    "        if word in question:\n",
    "            # print(word + ' 出现在提问中')\n",
    "            return True\n",
    "    return False"
   ]
  },
  {
   "cell_type": "markdown",
   "id": "568ee632",
   "metadata": {},
   "source": [
    "建立一个检查函数，当疑问词在提问中，返回 真 否则返回 假"
   ]
  },
  {
   "cell_type": "code",
   "execution_count": 19,
   "id": "abf45560",
   "metadata": {},
   "outputs": [],
   "source": [
    "# 使用检查疑问词语句，提取关系\n",
    "question_types = []\n",
    "\n",
    "\n",
    "# #当问题中出现对应的症状疑问词且问题中有疾病实体\n",
    "if check_words(symptom_qwds, question) and ('disease' in types):\n",
    "    question_type = 'disease_symptom'\n",
    "    question_types.append(question_type)\n",
    "    \n",
    "# 症状-疾病\n",
    "if check_words(symptom_qwds, question) and ('symptom' in types):\n",
    "    question_type = 'symptom_disease'\n",
    "    question_types.append(question_type)\n",
    "    \n",
    "# 疾病-病因\n",
    "if check_words(cause_qwds, question) and ('disease' in types):\n",
    "    question_type = 'disease_cause'\n",
    "    question_types.append(question_type)\n",
    "\n",
    "# 疾病-并发症\n",
    "if check_words(acompany_qwds, question) and ('disease' in types):\n",
    "    question_type = 'disease_acompany'\n",
    "    question_types.append(question_type)\n",
    "\n",
    "# 疾病-可以吃/不可以吃\n",
    "if check_words(food_qwds, question) and 'disease' in types:\n",
    "    deny_status = check_words(deny_words, question)\n",
    "    if deny_status:\n",
    "        question_type = 'disease_not_food'\n",
    "    else:\n",
    "        question_type = 'disease_do_food'\n",
    "    question_types.append(question_type)\n",
    "    \n",
    "# 可以吃/不可以吃-疾病\n",
    "if check_words(food_qwds+cure_qwds, question) and 'food' in types:\n",
    "    deny_status = check_words(deny_words, question)\n",
    "    if deny_status:\n",
    "        question_type = 'food_not_disease'\n",
    "    else:\n",
    "        question_type = 'food_do_disease'\n",
    "    question_types.append(question_type)\n",
    "    \n",
    "# 疾病-药物\n",
    "if check_words(drug_qwds, question) and 'disease' in types:\n",
    "    question_type = 'disease_drug'\n",
    "    question_types.append(question_type)\n",
    "    \n",
    "# 药物-疾病\n",
    "if check_words(cure_qwds, question) and 'drug' in types:\n",
    "    question_type = 'drug_disease'\n",
    "    question_types.append(question_type)\n",
    "    \n",
    "# 疾病-检查\n",
    "if check_words(check_qwds, question) and 'disease' in types:\n",
    "    question_type = 'disease_check'\n",
    "    question_types.append(question_type)\n",
    "    \n",
    "# 检查-疾病\n",
    "if check_words(check_qwds+cure_qwds, question) and 'check' in types:\n",
    "    question_type = 'check_disease'\n",
    "    question_types.append(question_type)\n",
    "    \n",
    "#　疾病-预防措施\n",
    "if check_words(prevent_qwds, question) and 'disease' in types:\n",
    "    question_type = 'disease_prevent'\n",
    "    question_types.append(question_type)\n",
    "    \n",
    "# 疾病-疗程\n",
    "if check_words(lasttime_qwds, question) and 'disease' in types:\n",
    "    question_type = 'disease_lasttime'\n",
    "    question_types.append(question_type)\n",
    "\n",
    "# 疾病-疗法\n",
    "if check_words(cureway_qwds, question) and 'disease' in types:\n",
    "    question_type = 'disease_cureway'\n",
    "    question_types.append(question_type)\n",
    "\n",
    "# 疾病-治愈率\n",
    "if check_words(cureprob_qwds, question) and 'disease' in types:\n",
    "    question_type = 'disease_cureprob'\n",
    "    question_types.append(question_type)\n",
    "\n",
    "# 疾病-易感人群\n",
    "if check_words(easyget_qwds, question) and 'disease' in types :\n",
    "    question_type = 'disease_easyget'\n",
    "    question_types.append(question_type)"
   ]
  },
  {
   "cell_type": "markdown",
   "id": "86c4239b",
   "metadata": {},
   "source": [
    "检查问题语句，逐个关系进行，一共15个检查，当问题的疑问词出现在一类疑问列表种且列表的类型对应到特征词的类别时，认为该关系可以被提取，被提取出来的关系添加在question_types中。"
   ]
  },
  {
   "cell_type": "code",
   "execution_count": 20,
   "id": "a4d752c3",
   "metadata": {},
   "outputs": [
    {
     "data": {
      "text/plain": [
       "['check_disease']"
      ]
     },
     "execution_count": 20,
     "metadata": {},
     "output_type": "execute_result"
    }
   ],
   "source": [
    "#关系\n",
    "question_types"
   ]
  },
  {
   "cell_type": "markdown",
   "id": "0d532c77",
   "metadata": {},
   "source": [
    "这里检查出，问题 '肺气肿和百日咳要做血常规吗'属于的是check_disease 检查和疾病关系"
   ]
  },
  {
   "cell_type": "code",
   "execution_count": 21,
   "id": "274aa87d",
   "metadata": {},
   "outputs": [],
   "source": [
    "# 若没有查到相关的外部查询信息，那么则将该疾病的描述信息返回\n",
    "if question_types == [] and 'disease' in types:\n",
    "    question_types = ['disease_desc']\n",
    "\n",
    "# 若没有查到相关的外部查询信息，那么则将该疾病的描述信息返回\n",
    "if question_types == [] and 'symptom' in types:\n",
    "    question_types = ['symptom_disease']\n",
    "\n",
    "# 将多个分类结果进行合并处理，组装成一个字典\n",
    "output['question_types'] = question_types"
   ]
  },
  {
   "cell_type": "raw",
   "id": "3c0321d2",
   "metadata": {},
   "source": [
    "没有查询到对应的关系，那么仅仅返回疾病的描述或者是疾病的症状。\n",
    "并将问题对应的关系添加到output列表中"
   ]
  },
  {
   "cell_type": "code",
   "execution_count": 22,
   "id": "7a8ae80f",
   "metadata": {},
   "outputs": [
    {
     "data": {
      "text/plain": [
       "{'args': {'肺气肿': ['disease'], '百日咳': ['disease'], '血常规': ['check']},\n",
       " 'question_types': ['check_disease']}"
      ]
     },
     "execution_count": 22,
     "metadata": {},
     "output_type": "execute_result"
    }
   ],
   "source": [
    "output"
   ]
  },
  {
   "cell_type": "markdown",
   "id": "f325af13",
   "metadata": {},
   "source": [
    "到这里为止，整个问题已经被分类为，output中包含了问题设计到的关键词、关键词所属的类别以及问题对应的关系。"
   ]
  },
  {
   "cell_type": "markdown",
   "id": "e120f72a",
   "metadata": {},
   "source": [
    "# 二、生成Cypher查询语句"
   ]
  },
  {
   "cell_type": "code",
   "execution_count": 25,
   "id": "637c2964",
   "metadata": {},
   "outputs": [],
   "source": [
    "output_pre=output\n",
    "args = output_pre['args']"
   ]
  },
  {
   "cell_type": "markdown",
   "id": "075746df",
   "metadata": {},
   "source": [
    "没啥特别的意义，就是将output的值分解出来"
   ]
  },
  {
   "cell_type": "code",
   "execution_count": 27,
   "id": "27d58ca5",
   "metadata": {},
   "outputs": [
    {
     "data": {
      "text/plain": [
       "{'disease': ['肺气肿', '百日咳'], 'check': ['血常规']}"
      ]
     },
     "execution_count": 27,
     "metadata": {},
     "output_type": "execute_result"
    }
   ],
   "source": [
    "entity_dict = {}\n",
    "for arg, types in args.items():\n",
    "    for type in types:\n",
    "        if type not in entity_dict:\n",
    "            entity_dict[type] = [arg]\n",
    "        else:\n",
    "            entity_dict[type].append(arg)\n",
    "entity_dict"
   ]
  },
  {
   "cell_type": "markdown",
   "id": "73809e01",
   "metadata": {},
   "source": [
    "生成一个字典entity_dict 为后续的问题解析为查询语句中的实体节点的匹配做准备"
   ]
  },
  {
   "cell_type": "code",
   "execution_count": 28,
   "id": "728d5247",
   "metadata": {},
   "outputs": [],
   "source": [
    "question_types = output_pre['question_types']"
   ]
  },
  {
   "cell_type": "markdown",
   "id": "24bcd057",
   "metadata": {},
   "source": [
    "生成一个列表question_types 为后续的问题解析为查询语句中的关系的匹配做准备"
   ]
  },
  {
   "cell_type": "code",
   "execution_count": 29,
   "id": "b0b6b916",
   "metadata": {},
   "outputs": [
    {
     "data": {
      "text/plain": [
       "'check_disease'"
      ]
     },
     "execution_count": 29,
     "metadata": {},
     "output_type": "execute_result"
    }
   ],
   "source": [
    "question_type"
   ]
  },
  {
   "cell_type": "markdown",
   "id": "404d6cc4",
   "metadata": {},
   "source": [
    "该问题只涉及到一个关系'check_disease'"
   ]
  },
  {
   "cell_type": "code",
   "execution_count": 30,
   "id": "b843ff6d",
   "metadata": {},
   "outputs": [],
   "source": [
    "sqls = []\n",
    "#构建一个问题-cypher查询转化函数\n",
    "#根据不同的问题类型，对应出不同的查询语句\n",
    "def sql_transfer(question_type, entities):\n",
    "    '''\n",
    "    不同的提问意图，对应不同关系的cypher查询语句\n",
    "    '''\n",
    "    \n",
    "    if not entities:\n",
    "        return []\n",
    "\n",
    "    # 查询语句\n",
    "    sql = []\n",
    "    # 查询疾病的病因\n",
    "    if question_type == 'disease_cause':\n",
    "        sql = [\"MATCH (m:Disease) where m.name = '{0}' return m.name, m.cause\".format(i) for i in entities]\n",
    "\n",
    "    # 查询疾病的预防措施\n",
    "    elif question_type == 'disease_prevent':\n",
    "        sql = [\"MATCH (m:Disease) where m.name = '{0}' return m.name, m.prevent\".format(i) for i in entities]\n",
    "\n",
    "    # 查询疾病的疗程\n",
    "    elif question_type == 'disease_lasttime':\n",
    "        sql = [\"MATCH (m:Disease) where m.name = '{0}' return m.name, m.cure_lasttime\".format(i) for i in entities]\n",
    "\n",
    "    # 查询疾病的治愈率\n",
    "    elif question_type == 'disease_cureprob':\n",
    "        sql = [\"MATCH (m:Disease) where m.name = '{0}' return m.name, m.cured_prob\".format(i) for i in entities]\n",
    "\n",
    "    # 查询疾病的疗法\n",
    "    elif question_type == 'disease_cureway':\n",
    "        sql = [\"MATCH (m:Disease) where m.name = '{0}' return m.name, m.cure_way\".format(i) for i in entities]\n",
    "\n",
    "    # 查询疾病的易感人群\n",
    "    elif question_type == 'disease_easyget':\n",
    "        sql = [\"MATCH (m:Disease) where m.name = '{0}' return m.name, m.easy_get\".format(i) for i in entities]\n",
    "\n",
    "    # 查询疾病的描述\n",
    "    elif question_type == 'disease_desc':\n",
    "        sql = [\"MATCH (m:Disease) where m.name = '{0}' return m.name, m.desc\".format(i) for i in entities]\n",
    "\n",
    "    # 查询疾病的症状\n",
    "    elif question_type == 'disease_symptom':\n",
    "        sql = [\"MATCH (m:Disease)-[r:has_symptom]->(n:Symptom) where m.name = '{0}' return m.name, r.name, n.name\".format(i) for i in entities]\n",
    "\n",
    "    # 查询症状对应的疾病\n",
    "    elif question_type == 'symptom_disease':\n",
    "        sql = [\"MATCH (m:Disease)-[r:has_symptom]->(n:Symptom) where n.name = '{0}' return m.name, r.name, n.name\".format(i) for i in entities]\n",
    "\n",
    "    # 查询疾病的并发症\n",
    "    elif question_type == 'disease_acompany':\n",
    "        sql1 = [\"MATCH (m:Disease)-[r:acompany_with]->(n:Disease) where m.name = '{0}' return m.name, r.name, n.name\".format(i) for i in entities]\n",
    "        sql2 = [\"MATCH (m:Disease)-[r:acompany_with]->(n:Disease) where n.name = '{0}' return m.name, r.name, n.name\".format(i) for i in entities]\n",
    "        sql = sql1 + sql2\n",
    "    # 查询疾病的忌口\n",
    "    elif question_type == 'disease_not_food':\n",
    "        sql = [\"MATCH (m:Disease)-[r:no_eat]->(n:Food) where m.name = '{0}' return m.name, r.name, n.name\".format(i) for i in entities]\n",
    "\n",
    "    # 查询疾病建议吃的东西\n",
    "    elif question_type == 'disease_do_food':\n",
    "        sql1 = [\"MATCH (m:Disease)-[r:do_eat]->(n:Food) where m.name = '{0}' return m.name, r.name, n.name\".format(i) for i in entities]\n",
    "        sql2 = [\"MATCH (m:Disease)-[r:recommand_eat]->(n:Food) where m.name = '{0}' return m.name, r.name, n.name\".format(i) for i in entities]\n",
    "        sql = sql1 + sql2\n",
    "\n",
    "    # 已知忌口查疾病\n",
    "    elif question_type == 'food_not_disease':\n",
    "        sql = [\"MATCH (m:Disease)-[r:no_eat]->(n:Food) where n.name = '{0}' return m.name, r.name, n.name\".format(i) for i in entities]\n",
    "\n",
    "    # 已知推荐查疾病\n",
    "    elif question_type == 'food_do_disease':\n",
    "        sql1 = [\"MATCH (m:Disease)-[r:do_eat]->(n:Food) where n.name = '{0}' return m.name, r.name, n.name\".format(i) for i in entities]\n",
    "        sql2 = [\"MATCH (m:Disease)-[r:recommand_eat]->(n:Food) where n.name = '{0}' return m.name, r.name, n.name\".format(i) for i in entities]\n",
    "        sql = sql1 + sql2\n",
    "\n",
    "    # 查询疾病常用药品－药品别名记得扩充\n",
    "    elif question_type == 'disease_drug':\n",
    "        sql1 = [\"MATCH (m:Disease)-[r:common_drug]->(n:Drug) where m.name = '{0}' return m.name, r.name, n.name\".format(i) for i in entities]\n",
    "        sql2 = [\"MATCH (m:Disease)-[r:recommand_drug]->(n:Drug) where m.name = '{0}' return m.name, r.name, n.name\".format(i) for i in entities]\n",
    "        sql = sql1 + sql2\n",
    "\n",
    "    # 已知药品查询能够治疗的疾病\n",
    "    elif question_type == 'drug_disease':\n",
    "        sql1 = [\"MATCH (m:Disease)-[r:common_drug]->(n:Drug) where n.name = '{0}' return m.name, r.name, n.name\".format(i) for i in entities]\n",
    "        sql2 = [\"MATCH (m:Disease)-[r:recommand_drug]->(n:Drug) where n.name = '{0}' return m.name, r.name, n.name\".format(i) for i in entities]\n",
    "        sql = sql1 + sql2\n",
    "    # 查询疾病应该做的检查\n",
    "    elif question_type == 'disease_check':\n",
    "        sql = [\"MATCH (m:Disease)-[r:need_check]->(n:Check) where m.name = '{0}' return m.name, r.name, n.name\".format(i) for i in entities]\n",
    "\n",
    "    # 已知检查查询疾病\n",
    "    elif question_type == 'check_disease':\n",
    "        sql = [\"MATCH (m:Disease)-[r:need_check]->(n:Check) where n.name = '{0}' return m.name, r.name, n.name\".format(i) for i in entities]\n",
    "\n",
    "    return sql"
   ]
  },
  {
   "cell_type": "markdown",
   "id": "c161a56e",
   "metadata": {},
   "source": [
    "构建一个问题-cypher查询转化函数\n",
    "根据不同的问题类型，对应出不同的查询语句\n",
    "question_type是之前在问题分类时候确定的问题的类型，这里用一个列表sql来存储查询语句。\n",
    "最根本的查询语句是 \n",
    "[\"MATCH (m:xxx)-[r:need_check]->(n:xxx) where m.name = '{0}' return m.name, r.name, n.name\".format(i) for i in entities]\n",
    "采用字符串格式化format的方法将提取出的实体和关系在查询语句中进行表现。"
   ]
  },
  {
   "cell_type": "code",
   "execution_count": 34,
   "id": "60a12623",
   "metadata": {},
   "outputs": [
    {
     "data": {
      "text/plain": [
       "[{'question_type': 'check_disease',\n",
       "  'sql': [\"MATCH (m:Disease)-[r:need_check]->(n:Check) where n.name = '血常规' return m.name, r.name, n.name\"]}]"
      ]
     },
     "execution_count": 34,
     "metadata": {},
     "output_type": "execute_result"
    }
   ],
   "source": [
    "#使用函数生成查询语句\n",
    "#一个字典 问题类型、语句\n",
    "sqls = []\n",
    "for question_type in question_types:\n",
    "    sql_ = {}\n",
    "    sql_['question_type'] = question_type\n",
    "    sql_['sql'] = sql_transfer(question_type, entity_dict.get(question_type.split('_')[0]))\n",
    "    sqls.append(sql_)\n",
    "sqls"
   ]
  },
  {
   "cell_type": "markdown",
   "id": "f0d8dd9f",
   "metadata": {},
   "source": [
    "执行该转化函数，将所有的查询语句都放在sqls中\n",
    "本问题只有一个查询语句"
   ]
  },
  {
   "cell_type": "markdown",
   "id": "29dd6a17",
   "metadata": {},
   "source": [
    "# 三. 查询图数据库，生成回答"
   ]
  },
  {
   "cell_type": "code",
   "execution_count": 35,
   "id": "7d022e1f",
   "metadata": {},
   "outputs": [],
   "source": [
    "#连接知识图扑\n",
    "from py2neo import Graph\n",
    "g = Graph(\"bolt://localhost:xxxx\", auth=(\"用户名\", \"密码\"))"
   ]
  },
  {
   "cell_type": "markdown",
   "id": "a73716f1",
   "metadata": {},
   "source": [
    "连接你自己的知识图扑，需要替换\"bolt://localhost:xxxx\"、\"用户名\"和 \"密码\"，一般的用户名应该都是neo4j"
   ]
  },
  {
   "cell_type": "code",
   "execution_count": 36,
   "id": "99e12a33",
   "metadata": {},
   "outputs": [],
   "source": [
    "num_limit = 20\n",
    "final_answers = []"
   ]
  },
  {
   "cell_type": "markdown",
   "id": "24b8297e",
   "metadata": {},
   "source": [
    "num_limit = 20 是一个用于限制回答中元素数量的参数。在代码中，它用于控制最终回答中的列表元素数量，确保回答的可读性和简洁性。"
   ]
  },
  {
   "cell_type": "code",
   "execution_count": 37,
   "id": "509edb60",
   "metadata": {},
   "outputs": [],
   "source": [
    "#构建一个回复匹配函数\n",
    "#根据问题类型自动进行回复的匹配\n",
    "def answer_prettify(question_type, answers):\n",
    "    final_answer = []\n",
    "    if not answers:\n",
    "        return ''\n",
    "    if question_type == 'disease_symptom':\n",
    "        desc = [i['n.name'] for i in answers]\n",
    "        subject = answers[0]['m.name']\n",
    "        final_answer = '{0}的症状包括：{1}'.format(subject, '；'.join(list(set(desc))[:num_limit]))\n",
    "\n",
    "    elif question_type == 'symptom_disease':\n",
    "        desc = [i['m.name'] for i in answers]\n",
    "        subject = answers[0]['n.name']\n",
    "        final_answer = '症状{0}可能染上的疾病有：{1}'.format(subject, '；'.join(list(set(desc))[:num_limit]))\n",
    "\n",
    "    elif question_type == 'disease_cause':\n",
    "        desc = [i['m.cause'] for i in answers]\n",
    "        subject = answers[0]['m.name']\n",
    "        final_answer = '{0}可能的成因有：{1}'.format(subject, '；'.join(list(set(desc))[:num_limit]))\n",
    "\n",
    "    elif question_type == 'disease_prevent':\n",
    "        desc = [i['m.prevent'] for i in answers]\n",
    "        subject = answers[0]['m.name']\n",
    "        final_answer = '{0}的预防措施包括：{1}'.format(subject, '；'.join(list(set(desc))[:num_limit]))\n",
    "\n",
    "    elif question_type == 'disease_lasttime':\n",
    "        desc = [i['m.cure_lasttime'] for i in answers]\n",
    "        subject = answers[0]['m.name']\n",
    "        final_answer = '{0}治疗可能持续的周期为：{1}'.format(subject, '；'.join(list(set(desc))[:num_limit]))\n",
    "\n",
    "    elif question_type == 'disease_cureway':\n",
    "        desc = [';'.join(i['m.cure_way']) for i in answers]\n",
    "        subject = answers[0]['m.name']\n",
    "        final_answer = '{0}可以尝试如下治疗：{1}'.format(subject, '；'.join(list(set(desc))[:num_limit]))\n",
    "\n",
    "    elif question_type == 'disease_cureprob':\n",
    "        desc = [i['m.cured_prob'] for i in answers]\n",
    "        subject = answers[0]['m.name']\n",
    "        final_answer = '{0}治愈的概率为（仅供参考）：{1}'.format(subject, '；'.join(list(set(desc))[:num_limit]))\n",
    "\n",
    "    elif question_type == 'disease_easyget':\n",
    "        desc = [i['m.easy_get'] for i in answers]\n",
    "        subject = answers[0]['m.name']\n",
    "\n",
    "        final_answer = '{0}的易感人群包括：{1}'.format(subject, '；'.join(list(set(desc))[:num_limit]))\n",
    "\n",
    "    elif question_type == 'disease_desc':\n",
    "        desc = [i['m.desc'] for i in answers]\n",
    "        subject = answers[0]['m.name']\n",
    "        final_answer = '{0},熟悉一下：{1}'.format(subject,  '；'.join(list(set(desc))[:num_limit]))\n",
    "\n",
    "    elif question_type == 'disease_acompany':\n",
    "        desc1 = [i['n.name'] for i in answers]\n",
    "        desc2 = [i['m.name'] for i in answers]\n",
    "        subject = answers[0]['m.name']\n",
    "        desc = [i for i in desc1 + desc2 if i != subject]\n",
    "        final_answer = '{0}的症状包括：{1}'.format(subject, '；'.join(list(set(desc))[:num_limit]))\n",
    "\n",
    "    elif question_type == 'disease_not_food':\n",
    "        desc = [i['n.name'] for i in answers]\n",
    "        subject = answers[0]['m.name']\n",
    "        final_answer = '{0}忌食的食物包括有：{1}'.format(subject, '；'.join(list(set(desc))[:num_limit]))\n",
    "\n",
    "    elif question_type == 'disease_do_food':\n",
    "        do_desc = [i['n.name'] for i in answers if i['r.name'] == '宜吃']\n",
    "        recommand_desc = [i['n.name'] for i in answers if i['r.name'] == '推荐食谱']\n",
    "        subject = answers[0]['m.name']\n",
    "        final_answer = '{0}宜食的食物包括有：{1}\\n推荐食谱包括有：{2}'.format(subject, ';'.join(list(set(do_desc))[:num_limit]), ';'.join(list(set(recommand_desc))[:self.num_limit]))\n",
    "\n",
    "    elif question_type == 'food_not_disease':\n",
    "        desc = [i['m.name'] for i in answers]\n",
    "        subject = answers[0]['n.name']\n",
    "        final_answer = '患有{0}的人最好不要吃{1}'.format('；'.join(list(set(desc))[:num_limit]), subject)\n",
    "\n",
    "    elif question_type == 'food_do_disease':\n",
    "        desc = [i['m.name'] for i in answers]\n",
    "        subject = answers[0]['n.name']\n",
    "        final_answer = '患有{0}的人建议多试试{1}'.format('；'.join(list(set(desc))[:num_limit]), subject)\n",
    "\n",
    "    elif question_type == 'disease_drug':\n",
    "        desc = [i['n.name'] for i in answers]\n",
    "        subject = answers[0]['m.name']\n",
    "        final_answer = '{0}通常的使用的药品包括：{1}'.format(subject, '；'.join(list(set(desc))[:num_limit]))\n",
    "\n",
    "    elif question_type == 'drug_disease':\n",
    "        desc = [i['m.name'] for i in answers]\n",
    "        subject = answers[0]['n.name']\n",
    "        final_answer = '{0}主治的疾病有{1},可以试试'.format(subject, '；'.join(list(set(desc))[:num_limit]))\n",
    "\n",
    "    elif question_type == 'disease_check':\n",
    "        desc = [i['n.name'] for i in answers]\n",
    "        subject = answers[0]['m.name']\n",
    "        final_answer = '{0}通常可以通过以下方式检查出来：{1}'.format(subject, '；'.join(list(set(desc))[:num_limit]))\n",
    "\n",
    "    elif question_type == 'check_disease':\n",
    "        desc = [i['m.name'] for i in answers]\n",
    "        subject = answers[0]['n.name']\n",
    "        final_answer = '通常可以通过{0}检查出来的疾病有{1}'.format(subject, '；'.join(list(set(desc))[:num_limit]))\n",
    "\n",
    "    return final_answer"
   ]
  },
  {
   "cell_type": "markdown",
   "id": "8603a7db",
   "metadata": {},
   "source": [
    "建立一个函数：\n",
    "根据问题的类型自动匹配出答案的格式，由于直接查询出的节点直接用作回答可读性很差劲，所以需要进行一些处理，增强可读性，使其像一个答案。"
   ]
  },
  {
   "cell_type": "code",
   "execution_count": 38,
   "id": "b3b707c2",
   "metadata": {},
   "outputs": [],
   "source": [
    "#遍历列表，每个 sql_ 包含一个问题类型和对应的 Cypher 查询语句列表\n",
    "for sql_ in sqls:\n",
    "    question_type = sql_['question_type']\n",
    "    queries = sql_['sql'] #保存当前问题类型对应的所有 Cypher 查询语句\n",
    "    answers = []\n",
    "    \n",
    "    \n",
    "    for query in queries: # 运行每一条cypher查询语句\n",
    "        ress = g.run(query).data() #在知识图谱中进行查询\n",
    "        answers += ress\n",
    "    final_answer = answer_prettify(question_type, answers) #进行格式化，生成最终答案\n",
    "    if final_answer:\n",
    "        final_answers.append(final_answer)"
   ]
  },
  {
   "cell_type": "markdown",
   "id": "f3dd4d11",
   "metadata": {},
   "source": [
    "将sqls中的每个查询语句都执行一遍，将查询结果进行格式化\n",
    "最终的答案存在final_answer中"
   ]
  },
  {
   "cell_type": "code",
   "execution_count": 40,
   "id": "ea1c1c08",
   "metadata": {},
   "outputs": [
    {
     "data": {
      "text/plain": [
       "[{'m.name': '肺炎杆菌肺炎', 'r.name': '诊断检查', 'n.name': '血常规'},\n",
       " {'m.name': '肺炎球菌肺炎', 'r.name': '诊断检查', 'n.name': '血常规'},\n",
       " {'m.name': '放射性肺炎', 'r.name': '诊断检查', 'n.name': '血常规'},\n",
       " {'m.name': '二硫化碳中毒', 'r.name': '诊断检查', 'n.name': '血常规'},\n",
       " {'m.name': '大楼病综合征', 'r.name': '诊断检查', 'n.name': '血常规'},\n",
       " {'m.name': '大叶性肺炎', 'r.name': '诊断检查', 'n.name': '血常规'},\n",
       " {'m.name': '苯中毒', 'r.name': '诊断检查', 'n.name': '血常规'},\n",
       " {'m.name': '百日咳', 'r.name': '诊断检查', 'n.name': '血常规'}]"
      ]
     },
     "execution_count": 40,
     "metadata": {},
     "output_type": "execute_result"
    }
   ],
   "source": [
    "#查询结果 最初级的结果\n",
    "answers"
   ]
  },
  {
   "cell_type": "code",
   "execution_count": 42,
   "id": "2ef0a4a2",
   "metadata": {},
   "outputs": [
    {
     "data": {
      "text/plain": [
       "'通常可以通过血常规检查出来的疾病有放射性肺炎；百日咳；二硫化碳中毒；肺炎球菌肺炎；肺炎杆菌肺炎；苯中毒；大叶性肺炎；大楼病综合征'"
      ]
     },
     "execution_count": 42,
     "metadata": {},
     "output_type": "execute_result"
    }
   ],
   "source": [
    "#返回答案 格式化后的答案\n",
    "final_answer"
   ]
  },
  {
   "cell_type": "code",
   "execution_count": null,
   "id": "25bd85a3",
   "metadata": {},
   "outputs": [],
   "source": []
  }
 ],
 "metadata": {
  "kernelspec": {
   "display_name": "Python 3",
   "language": "python",
   "name": "python3"
  },
  "language_info": {
   "codemirror_mode": {
    "name": "ipython",
    "version": 3
   },
   "file_extension": ".py",
   "mimetype": "text/x-python",
   "name": "python",
   "nbconvert_exporter": "python",
   "pygments_lexer": "ipython3",
   "version": "3.7.6"
  }
 },
 "nbformat": 4,
 "nbformat_minor": 5
}
